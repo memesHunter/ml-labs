{
 "cells": [
  {
   "cell_type": "code",
   "execution_count": 359,
   "metadata": {},
   "outputs": [],
   "source": [
    "import warnings\n",
    "warnings.filterwarnings('ignore')"
   ]
  },
  {
   "cell_type": "code",
   "execution_count": 360,
   "metadata": {},
   "outputs": [],
   "source": [
    "import pandas as pd\n",
    "import numpy as np\n",
    "import re\n",
    "\n",
    "import nltk\n",
    "from nltk.corpus import stopwords\n",
    "\n",
    "from sklearn.preprocessing import LabelEncoder\n",
    "from sklearn.feature_extraction.text import TfidfVectorizer\n",
    "from sklearn.model_selection import train_test_split\n",
    "\n",
    "from sklearn.manifold import TSNE\n",
    "from matplotlib import pyplot as plt\n",
    "\n",
    "from sklearn.metrics import accuracy_score"
   ]
  },
  {
   "cell_type": "markdown",
   "metadata": {},
   "source": [
    "## Setup"
   ]
  },
  {
   "cell_type": "code",
   "execution_count": 361,
   "metadata": {},
   "outputs": [
    {
     "data": {
      "text/html": [
       "<div>\n",
       "<style scoped>\n",
       "    .dataframe tbody tr th:only-of-type {\n",
       "        vertical-align: middle;\n",
       "    }\n",
       "\n",
       "    .dataframe tbody tr th {\n",
       "        vertical-align: top;\n",
       "    }\n",
       "\n",
       "    .dataframe thead th {\n",
       "        text-align: right;\n",
       "    }\n",
       "</style>\n",
       "<table border=\"1\" class=\"dataframe\">\n",
       "  <thead>\n",
       "    <tr style=\"text-align: right;\">\n",
       "      <th></th>\n",
       "      <th>class</th>\n",
       "      <th>text</th>\n",
       "    </tr>\n",
       "  </thead>\n",
       "  <tbody>\n",
       "    <tr>\n",
       "      <th>0</th>\n",
       "      <td>0</td>\n",
       "      <td>Go until jurong point, crazy.. Available only ...</td>\n",
       "    </tr>\n",
       "    <tr>\n",
       "      <th>1</th>\n",
       "      <td>0</td>\n",
       "      <td>Ok lar... Joking wif u oni...</td>\n",
       "    </tr>\n",
       "    <tr>\n",
       "      <th>2</th>\n",
       "      <td>1</td>\n",
       "      <td>Free entry in 2 a wkly comp to win FA Cup fina...</td>\n",
       "    </tr>\n",
       "    <tr>\n",
       "      <th>3</th>\n",
       "      <td>0</td>\n",
       "      <td>U dun say so early hor... U c already then say...</td>\n",
       "    </tr>\n",
       "    <tr>\n",
       "      <th>4</th>\n",
       "      <td>0</td>\n",
       "      <td>Nah I don't think he goes to usf, he lives aro...</td>\n",
       "    </tr>\n",
       "  </tbody>\n",
       "</table>\n",
       "</div>"
      ],
      "text/plain": [
       "   class                                               text\n",
       "0      0  Go until jurong point, crazy.. Available only ...\n",
       "1      0                      Ok lar... Joking wif u oni...\n",
       "2      1  Free entry in 2 a wkly comp to win FA Cup fina...\n",
       "3      0  U dun say so early hor... U c already then say...\n",
       "4      0  Nah I don't think he goes to usf, he lives aro..."
      ]
     },
     "execution_count": 361,
     "metadata": {},
     "output_type": "execute_result"
    }
   ],
   "source": [
    "df = pd.read_csv(\"./data/SMS.tsv\", delimiter='\\t')\n",
    "df[\"class\"] = LabelEncoder().fit_transform(df[\"class\"])\n",
    "df.head()"
   ]
  },
  {
   "cell_type": "code",
   "execution_count": 362,
   "metadata": {},
   "outputs": [],
   "source": [
    "def process(text):\n",
    "    text = re.sub(r'[^\\w\\s]', '', text.lower())\n",
    "    text = re.sub(r'\\s\\s+', ' ', text)\n",
    "    text = re.sub(r'[\\d_]', '', text)\n",
    "\n",
    "    return text.strip()"
   ]
  },
  {
   "cell_type": "code",
   "execution_count": 363,
   "metadata": {},
   "outputs": [],
   "source": [
    "X = df.text.map(process)\n",
    "y = df[\"class\"]"
   ]
  },
  {
   "cell_type": "code",
   "execution_count": 364,
   "metadata": {},
   "outputs": [],
   "source": [
    "nltk.download(\"stopwords\", quiet=True)\n",
    "tfidf = TfidfVectorizer(max_features=1000, stop_words=stopwords.words(\"english\"), strip_accents=\"unicode\")\n",
    "X = pd.DataFrame(data=tfidf.fit_transform(X).toarray(), columns=tfidf.get_feature_names_out())\n",
    "feats = tfidf.get_feature_names_out()"
   ]
  },
  {
   "cell_type": "code",
   "execution_count": 365,
   "metadata": {},
   "outputs": [],
   "source": [
    "X_train, X_test, y_train, y_test = train_test_split(X, y, test_size=0.25, random_state=42)"
   ]
  },
  {
   "cell_type": "markdown",
   "metadata": {},
   "source": [
    "## Embedding"
   ]
  },
  {
   "cell_type": "code",
   "execution_count": 366,
   "metadata": {},
   "outputs": [],
   "source": [
    "from sklearn.ensemble import RandomForestClassifier\n",
    "\n",
    "imp = RandomForestClassifier().fit(X, y).feature_importances_\n",
    "embed_res = list(map(lambda i_f: i_f[1], sorted(filter(lambda i_f: i_f[0] > np.mean(imp), zip(imp, feats)))[-30:][::-1]))"
   ]
  },
  {
   "cell_type": "markdown",
   "metadata": {},
   "source": [
    "## Filter"
   ]
  },
  {
   "cell_type": "code",
   "execution_count": 367,
   "metadata": {},
   "outputs": [],
   "source": [
    "filter_res = list(map(lambda x: x[0], sorted([(col, np.abs(np.corrcoef(X[col], y))[0][1]) for col in X.columns], key=lambda x: x[1])[-30:][::-1]))"
   ]
  },
  {
   "cell_type": "markdown",
   "metadata": {},
   "source": [
    "## Wrapper"
   ]
  },
  {
   "cell_type": "code",
   "execution_count": 368,
   "metadata": {},
   "outputs": [],
   "source": [
    "from sklearn.linear_model import LogisticRegression\n",
    "\n",
    "classifier = LogisticRegression()\n",
    "\n",
    "wrap_res = []\n",
    "while len(wrap_res) < 30:\n",
    "    best_res = (0, \"\")\n",
    "    for feat in X_train:\n",
    "        if feat in wrap_res: continue\n",
    "\n",
    "        best_so_far_train = pd.DataFrame(X_train, columns=wrap_res)\n",
    "        best_so_far_test = pd.DataFrame(X_test, columns=wrap_res)\n",
    "\n",
    "        best_so_far_train[feat] = X_train[feat]\n",
    "        best_so_far_test[feat] = X_test[feat]\n",
    "\n",
    "        classifier.fit(best_so_far_train.values, y_train)\n",
    "\n",
    "        best_res = max(best_res, (accuracy_score(y_test, classifier.predict(best_so_far_test.values)), feat), key=lambda x: x[0])\n",
    "\n",
    "    wrap_res.append(best_res[1])"
   ]
  },
  {
   "cell_type": "markdown",
   "metadata": {},
   "source": [
    "## Lib methods"
   ]
  },
  {
   "cell_type": "code",
   "execution_count": 369,
   "metadata": {},
   "outputs": [],
   "source": [
    "from sklearn.feature_selection import SelectKBest, mutual_info_classif\n",
    "\n",
    "mutin = SelectKBest(mutual_info_classif, k=30)\n",
    "mutin.fit(X_train, y_train)\n",
    "lib_mutin_res = feats[mutin.get_support()]"
   ]
  },
  {
   "cell_type": "code",
   "execution_count": 370,
   "metadata": {},
   "outputs": [],
   "source": [
    "from sklearn.feature_selection import f_classif\n",
    "\n",
    "fclass = SelectKBest(f_classif, k=30)\n",
    "fclass.fit(X_train, y_train)\n",
    "lib_fclass_res = feats[fclass.get_support()]"
   ]
  },
  {
   "cell_type": "code",
   "execution_count": 371,
   "metadata": {},
   "outputs": [],
   "source": [
    "from sklearn.feature_selection import chi2\n",
    "\n",
    "chitwo = SelectKBest(chi2, k=30)\n",
    "chitwo.fit(X_train, y_train)\n",
    "lib_chitwo_res = feats[chitwo.get_support()]"
   ]
  },
  {
   "cell_type": "markdown",
   "metadata": {},
   "source": [
    "## Display"
   ]
  },
  {
   "cell_type": "code",
   "execution_count": 372,
   "metadata": {},
   "outputs": [
    {
     "name": "stdout",
     "output_type": "stream",
     "text": [
      "       Embedding             Filter            Wrapper               Chi2   F Classification   Mut. Inf. Classif\n",
      "            call |              txt |            claim |            award |          awarded |              box\n",
      "             txt |            claim |              txt |          awarded |              box |             call\n",
      "          mobile |             free |             call |              box |             call |             cash\n",
      "            free |            prize |           mobile |             call |           camera |            claim\n",
      "           claim |           mobile |          service |           camera |             cash |  congratulations\n",
      "           prize |             call |             ltgt |             cash |            claim |               cs\n",
      "            text |           urgent |           reward |            claim |       collection |         customer\n",
      "            stop |             stop |            entry |          contact |          contact |              den\n",
      "           reply |       guaranteed |        bluetooth |         customer |         customer |            drive\n",
      "             win |            reply |          auction |             draw |             draw |             free\n",
      "         service |              win |             dear |             free |             free |             gift\n",
      "         contact |          service |          england |       guaranteed |       guaranteed |       guaranteed\n",
      "          urgent |            nokia |              ltd |           latest |         landline |             mins\n",
      "            cash |              ppm |              amp |           mobile |           latest |           mobile\n",
      "           nokia |             cash |      unsubscribe |            nokia |           mobile |             mths\n",
      "        customer |          awarded |          morning |              per |            nokia |          network\n",
      "             new |             text |          matches |              ppm |              per |             neva\n",
      "            chat |             tone |             sexy |            prize |            pobox |           number\n",
      "            tone |          contact |           abiola |            reply |              ppm |           please\n",
      "             ppm |              box |             able |         ringtone |            prize |              ppm\n",
      "        ringtone |         customer |              abt |          service |            reply |            prize\n",
      "          latest |              tcs |           accept |             stop |          service |            reply\n",
      "           pobox |            pobox |           access |              tcs |             stop |             stop\n",
      "            pmin |              per |           across |             text |              tcs |             text\n",
      "             per |         landline |         actually |             tone |             text |             tone\n",
      "           apply |             code |              pic |            tones |             tone |              txt\n",
      "      guaranteed |           latest |              add |              txt |              txt |               ur\n",
      "         awarded |       collection |              aft |           urgent |           urgent |           urgent\n",
      "           video |             draw |          address |           weekly |           weekly |              win\n",
      "              po |               po |        afternoon |              win |              win |               wk\n"
     ]
    }
   ],
   "source": [
    "print(f\"{'Embedding': >16}   {'Filter': >16}   {'Wrapper': >16}   {'Chi2': >16}   {'F Classification': >16}   {'Mut. Inf. Classif': >16}\")\n",
    "for i in range(30): print(f\"{embed_res[i]: >16} | {filter_res[i]: >16} | {wrap_res[i]: >16} | {lib_chitwo_res[i]: >16} | {lib_fclass_res[i]: >16} | {lib_mutin_res[i]: >16}\")"
   ]
  },
  {
   "cell_type": "markdown",
   "metadata": {},
   "source": [
    "## Classifier Test"
   ]
  },
  {
   "cell_type": "code",
   "execution_count": 373,
   "metadata": {},
   "outputs": [],
   "source": [
    "def test_classifier(clsf):\n",
    "    print(f\"Testing {clsf.__class__.__name__}\")\n",
    "    for feats, name in [(None, 'Default'), (embed_res, 'Embedding'), (filter_res, 'Filter'), (wrap_res, 'Wrapper'), (lib_chitwo_res, 'Chi 2'), (lib_fclass_res, 'F Classif'), (lib_mutin_res, 'Mutual Inf')]:\n",
    "        if feats is None:\n",
    "            clsf.fit(X_train, y_train)\n",
    "            print(f\"{name: >10}: {accuracy_score(y_test, clsf.predict(X_test))*100:.3f}%\")\n",
    "            continue\n",
    "            \n",
    "        clsf.fit(pd.DataFrame(X_train, columns=feats).values, y_train)\n",
    "        print(f\"{name: >10}: {accuracy_score(y_test, clsf.predict(pd.DataFrame(X_test, columns=feats).values))*100:.3f}%\")\n",
    "    print()\n"
   ]
  },
  {
   "cell_type": "code",
   "execution_count": 375,
   "metadata": {},
   "outputs": [
    {
     "name": "stdout",
     "output_type": "stream",
     "text": [
      "Testing KNeighborsClassifier\n",
      "   Default: 93.108%\n",
      " Embedding: 95.980%\n",
      "    Filter: 95.334%\n",
      "   Wrapper: 94.688%\n",
      "     Chi 2: 95.334%\n",
      " F Classif: 95.047%\n",
      "Mutual Inf: 94.544%\n",
      "\n",
      "Testing GaussianNB\n",
      "   Default: 79.971%\n",
      " Embedding: 94.903%\n",
      "    Filter: 94.185%\n",
      "   Wrapper: 22.685%\n",
      "     Chi 2: 94.257%\n",
      " F Classif: 94.113%\n",
      "Mutual Inf: 93.037%\n",
      "\n",
      "Testing RandomForestClassifier\n",
      "   Default: 98.062%\n",
      " Embedding: 96.554%\n",
      "    Filter: 95.765%\n",
      "   Wrapper: 95.693%\n",
      "     Chi 2: 95.549%\n",
      " F Classif: 95.980%\n",
      "Mutual Inf: 95.406%\n",
      "\n",
      "Testing DecisionTreeClassifier\n",
      "   Default: 95.477%\n",
      " Embedding: 95.118%\n",
      "    Filter: 94.401%\n",
      "   Wrapper: 95.334%\n",
      "     Chi 2: 94.472%\n",
      " F Classif: 94.616%\n",
      "Mutual Inf: 94.688%\n",
      "\n"
     ]
    }
   ],
   "source": [
    "from sklearn.naive_bayes import GaussianNB\n",
    "from sklearn.neighbors import KNeighborsClassifier\n",
    "from sklearn.tree import DecisionTreeClassifier\n",
    "\n",
    "test_classifier(KNeighborsClassifier())\n",
    "test_classifier(GaussianNB())\n",
    "test_classifier(RandomForestClassifier())\n",
    "test_classifier(DecisionTreeClassifier())"
   ]
  }
 ],
 "metadata": {
  "kernelspec": {
   "display_name": "metopt",
   "language": "python",
   "name": "python3"
  },
  "language_info": {
   "codemirror_mode": {
    "name": "ipython",
    "version": 3
   },
   "file_extension": ".py",
   "mimetype": "text/x-python",
   "name": "python",
   "nbconvert_exporter": "python",
   "pygments_lexer": "ipython3",
   "version": "3.10.4"
  },
  "orig_nbformat": 4
 },
 "nbformat": 4,
 "nbformat_minor": 2
}
