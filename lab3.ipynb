{
 "cells": [
  {
   "cell_type": "code",
   "execution_count": 105,
   "metadata": {},
   "outputs": [],
   "source": [
    "import torch\n",
    "import torch.nn as nn\n",
    "from torch.utils.data import DataLoader\n",
    "from torch.utils.data import Dataset\n",
    "import random\n",
    "\n",
    "import re"
   ]
  },
  {
   "attachments": {},
   "cell_type": "markdown",
   "metadata": {},
   "source": [
    "## Text setup"
   ]
  },
  {
   "cell_type": "code",
   "execution_count": 106,
   "metadata": {},
   "outputs": [],
   "source": [
    "with open(\"./data/ak.txt\", \"r\", encoding=\"utf-8\") as f: text = f.read().lower()"
   ]
  },
  {
   "cell_type": "code",
   "execution_count": 107,
   "metadata": {},
   "outputs": [
    {
     "name": "stdout",
     "output_type": "stream",
     "text": [
      "Total Characters: 1635683\n",
      "Vocab size: 62\n",
      "Characters [   . a b c d e f g h i j k l m n o p q r s t u v w x y z а б в г д е ж з и й к л м н о п р с т у ф х ц ч ш щ ъ ы ь э ю я ё ї ]\n"
     ]
    }
   ],
   "source": [
    "text = re.sub(r'[^\\w\\s\\.\\!\\?]', '', text)\n",
    "text = re.sub(r'[\\!\\?\\.+]', '.', text)\n",
    "text = re.sub(r'\\s+', ' ', text)\n",
    "text = re.sub(r'[\\d_]', '', text)\n",
    "\n",
    "int_to_char = sorted(list(set(text)))\n",
    "char_to_int = dict((c, i) for i, c in enumerate(int_to_char))\n",
    "vocab_size = len(int_to_char)\n",
    "\n",
    "print(\"Total Characters:\", len(text))\n",
    "print(\"Vocab size:\", len(int_to_char))\n",
    "print(\"Characters [\", *char_to_int.keys(), ']')"
   ]
  },
  {
   "cell_type": "code",
   "execution_count": 108,
   "metadata": {},
   "outputs": [
    {
     "name": "stdout",
     "output_type": "stream",
     "text": [
      "14846\n"
     ]
    },
    {
     "data": {
      "text/plain": [
       "['все смешалось в доме облонских.',\n",
       " 'жена не выходила из своих комнат мужа третий день не было дома.',\n",
       " 'да да как это было.',\n",
       " 'думал он вспоминая сон.',\n",
       " 'да как это было.',\n",
       " 'алабин давал обед в дармштадте нет не в дармштадте а чтото американское.',\n",
       " 'да но там дармштадт был в америке.',\n",
       " 'глаза степана аркадьича весело заблестели и он задумался улыбаясь.',\n",
       " 'да хорошо было очень хорошо.',\n",
       " 'много еще чтото там было отличного да не скажешь словами и мыслями даже наяву не выразишь.']"
      ]
     },
     "execution_count": 108,
     "metadata": {},
     "output_type": "execute_result"
    }
   ],
   "source": [
    "max_sntc_l = 100\n",
    "min_sntc_l = 10\n",
    "\n",
    "sentences = list(map(\n",
    "    lambda x: x.strip() + '.',\n",
    "    filter(lambda x: min_sntc_l <= len(x) <= max_sntc_l, text.split('.'))\n",
    "    ))\n",
    "\n",
    "print(len(sentences))\n",
    "sentences[:10]"
   ]
  },
  {
   "attachments": {},
   "cell_type": "markdown",
   "metadata": {},
   "source": [
    "## Markov chain"
   ]
  },
  {
   "cell_type": "code",
   "execution_count": 109,
   "metadata": {},
   "outputs": [],
   "source": [
    "m_sntc = sentences\n",
    "N = 5"
   ]
  },
  {
   "cell_type": "code",
   "execution_count": 110,
   "metadata": {},
   "outputs": [],
   "source": [
    "def build_markov_chain(sntc):\n",
    "    markov_chain = {}\n",
    "\n",
    "    def add_to_chain(prefix, suffix):\n",
    "        # print(f\"\\\"{prefix}\\\" -> \\\"{suffix}\\\"\")\n",
    "\n",
    "        if prefix not in markov_chain:\n",
    "            markov_chain[prefix] = {}\n",
    "\n",
    "        if suffix not in markov_chain[prefix]:\n",
    "            markov_chain[prefix][suffix] = 0\n",
    "\n",
    "        markov_chain[prefix][suffix] += 1\n",
    "\n",
    "    for s in sntc:\n",
    "        for i in range(N):\n",
    "            prefix = s[:i]\n",
    "            suffix = s[i:i + 1]\n",
    "            add_to_chain(prefix, suffix)\n",
    "\n",
    "        for i in range(len(s) - N):\n",
    "            prefix = s[i:i + N]\n",
    "            suffix = s[i + N]\n",
    "            add_to_chain(prefix, suffix)\n",
    "\n",
    "    return markov_chain"
   ]
  },
  {
   "cell_type": "code",
   "execution_count": 111,
   "metadata": {},
   "outputs": [],
   "source": [
    "def normalize_chain(markov_chain):\n",
    "    normalized_chain = {}\n",
    "\n",
    "    for prefix, suffixes in markov_chain.items():\n",
    "        total = sum(suffixes.values())\n",
    "        normalized_suffixes = {k: v/total for k, v in suffixes.items()}\n",
    "        normalized_chain[prefix] = normalized_suffixes\n",
    "\n",
    "    return normalized_chain"
   ]
  },
  {
   "cell_type": "code",
   "execution_count": 112,
   "metadata": {},
   "outputs": [],
   "source": [
    "def complete_chain(norm_chain, prefix, max_length = 100):\n",
    "    result = prefix\n",
    "    prefix = result[-N:]\n",
    "    cur_len = len(result)\n",
    "    while cur_len < max_length:\n",
    "        \n",
    "        if prefix not in norm_chain:\n",
    "            prefix = prefix[1:]\n",
    "            continue      \n",
    "\n",
    "        predicted_suffixes = norm_chain[prefix]\n",
    "        next_suffix = random.choices(list(predicted_suffixes.keys()), list(predicted_suffixes.values()))[0]\n",
    "\n",
    "        if next_suffix == '.':\n",
    "            result += next_suffix\n",
    "            return result\n",
    "\n",
    "        result += next_suffix\n",
    "        prefix = result[-N:]\n",
    "        cur_len += 1\n",
    "\n",
    "    return result + \"...\"\n"
   ]
  },
  {
   "cell_type": "code",
   "execution_count": 113,
   "metadata": {},
   "outputs": [],
   "source": [
    "normalized_chain = normalize_chain(build_markov_chain(m_sntc))"
   ]
  },
  {
   "cell_type": "code",
   "execution_count": 114,
   "metadata": {},
   "outputs": [
    {
     "name": "stdout",
     "output_type": "stream",
     "text": [
      "'а' | 50.67%\n",
      "'р' | 7.10%\n",
      "'у' | 4.56%\n",
      "'т' | 3.49%\n",
      "'о' | 16.09%\n",
      "'и' | 10.32%\n",
      "'н' | 5.09%\n",
      "' ' | 2.14%\n",
      "'в' | 0.13%\n",
      "'е' | 0.13%\n",
      "'с' | 0.13%\n",
      "'л' | 0.13%\n"
     ]
    }
   ],
   "source": [
    "prefix = \"к\"\n",
    "predicted_suffixes = normalized_chain[prefix]\n",
    "for ch, p in predicted_suffixes.items(): print(f\"'{ch}' | {p * 100:.2f}%\")"
   ]
  },
  {
   "cell_type": "code",
   "execution_count": 115,
   "metadata": {},
   "outputs": [
    {
     "name": "stdout",
     "output_type": "stream",
     "text": [
      "сказал вронский.\n",
      "яшвин двух уток.\n"
     ]
    }
   ],
   "source": [
    "print(complete_chain(normalized_chain, \"\"))\n",
    "print(complete_chain(normalized_chain, \"\"))"
   ]
  },
  {
   "cell_type": "code",
   "execution_count": 116,
   "metadata": {},
   "outputs": [
    {
     "name": "stdout",
     "output_type": "stream",
     "text": [
      "ix уже не ушел к кити не хочет разобразуется нельзя.\n",
      "я уяснения из определать надо знакомы.\n"
     ]
    }
   ],
   "source": [
    "print(complete_chain(normalized_chain, \"i\"))\n",
    "print(complete_chain(normalized_chain, \"я\"))"
   ]
  },
  {
   "cell_type": "code",
   "execution_count": 117,
   "metadata": {},
   "outputs": [
    {
     "name": "stdout",
     "output_type": "stream",
     "text": [
      "charmante.\n",
      "в соседней остановил лошадь слова.\n"
     ]
    }
   ],
   "source": [
    "print(complete_chain(normalized_chain, \"ch\"))\n",
    "print(complete_chain(normalized_chain, \"в \"))"
   ]
  },
  {
   "cell_type": "code",
   "execution_count": 118,
   "metadata": {},
   "outputs": [
    {
     "name": "stdout",
     "output_type": "stream",
     "text": [
      "the zest is gone.\n",
      "что кажет.\n"
     ]
    }
   ],
   "source": [
    "print(complete_chain(normalized_chain, \"the\"))\n",
    "print(complete_chain(normalized_chain, \"что\"))"
   ]
  },
  {
   "cell_type": "code",
   "execution_count": 119,
   "metadata": {},
   "outputs": [
    {
     "name": "stdout",
     "output_type": "stream",
     "text": [
      "vous mexcuserez mais il ne faut jamais il ne faut.\n",
      "надолго лицо.\n",
      "уже давно какая должен был как анне бывает ли он сказал как этом на из это сделаю это пожертвовать.\n"
     ]
    }
   ],
   "source": [
    "print(complete_chain(normalized_chain, \"vous \"))\n",
    "print(complete_chain(normalized_chain, \"надолго ли\"))\n",
    "print(complete_chain(normalized_chain, \"уже давно\"))"
   ]
  },
  {
   "attachments": {},
   "cell_type": "markdown",
   "metadata": {},
   "source": [
    "## LSTM"
   ]
  },
  {
   "cell_type": "code",
   "execution_count": 120,
   "metadata": {},
   "outputs": [],
   "source": [
    "def string_tensor(string):\n",
    "    tensor = torch.zeros([len(string), vocab_size])\n",
    "    for i, ch in enumerate(string): tensor[i][char_to_int[ch]] = 1.\n",
    "    tensor.requires_grad = True\n",
    "    return tensor\n",
    "\n",
    "def char_tensor(ch):\n",
    "    tensor = torch.zeros(vocab_size)\n",
    "    tensor[char_to_int[ch]] = 1.\n",
    "    tensor.requires_grad = True\n",
    "    return tensor"
   ]
  },
  {
   "cell_type": "code",
   "execution_count": 121,
   "metadata": {},
   "outputs": [
    {
     "name": "stdout",
     "output_type": "stream",
     "text": [
      "85075\n"
     ]
    }
   ],
   "source": [
    "inputs_by_length = [[] for _ in range(max_sntc_l + 1)]\n",
    "labels_by_length = [[] for _ in range(max_sntc_l + 1)]\n",
    "\n",
    "for s in sentences[:2000]:\n",
    "    for i in range(1, len(s), 1):\n",
    "        inputs_by_length[i].append(string_tensor(s[:i]))\n",
    "        labels_by_length[i].append(char_tensor(s[i]))\n",
    "        # print(f\"\\\"{s[:i]}\\\" -> \\\"{s[i]}\\\"\")\n",
    "\n",
    "print(sum([len(labels) for labels in labels_by_length]))"
   ]
  },
  {
   "cell_type": "code",
   "execution_count": 122,
   "metadata": {},
   "outputs": [],
   "source": [
    "class Model(nn.Module):\n",
    "    def __init__(self):\n",
    "        super(Model, self).__init__()\n",
    "        self.lstm = nn.LSTM(vocab_size, 512, 1, batch_first=True)\n",
    "        self.fc = nn.Linear(512, vocab_size)\n",
    "\n",
    "    def forward(self, x):\n",
    "        a, (b, c) = self.lstm(x)\n",
    "        out = self.fc(c[-1, :])\n",
    "        return out"
   ]
  },
  {
   "cell_type": "code",
   "execution_count": 123,
   "metadata": {},
   "outputs": [],
   "source": [
    "model = Model()\n",
    "loss = nn.CrossEntropyLoss()\n",
    "optimizer = torch.optim.Adam(model.parameters(), lr=0.002)"
   ]
  },
  {
   "cell_type": "code",
   "execution_count": 124,
   "metadata": {},
   "outputs": [
    {
     "name": "stdout",
     "output_type": "stream",
     "text": [
      "Epoch 1 | Loss 2.9406\n",
      "Epoch 2 | Loss 2.5406\n",
      "Epoch 3 | Loss 2.4116\n",
      "Epoch 4 | Loss 2.2946\n",
      "Epoch 5 | Loss 2.2012\n",
      "Epoch 6 | Loss 2.1150\n",
      "Epoch 7 | Loss 2.0415\n",
      "Epoch 8 | Loss 1.9388\n",
      "Epoch 9 | Loss 1.8402\n",
      "Epoch 10 | Loss 1.7460\n",
      "Epoch 11 | Loss 1.6574\n",
      "Epoch 12 | Loss 1.6265\n",
      "Epoch 13 | Loss 1.5372\n",
      "Epoch 14 | Loss 1.4352\n",
      "Epoch 15 | Loss 1.3346\n",
      "Epoch 16 | Loss 1.2446\n",
      "Epoch 17 | Loss 1.1646\n",
      "Epoch 18 | Loss 1.1194\n",
      "Epoch 19 | Loss 1.0429\n",
      "Epoch 20 | Loss 0.9572\n"
     ]
    }
   ],
   "source": [
    "import numpy as np\n",
    "\n",
    "\n",
    "batch_size = 1000\n",
    "\n",
    "model.train()\n",
    "train_loss = []\n",
    "\n",
    "for epoch in range(20):\n",
    "    losses = []\n",
    "    for sntc_len in range(1, max_sntc_l + 1):\n",
    "        inputs = inputs_by_length[sntc_len]\n",
    "        labels = labels_by_length[sntc_len]\n",
    "\n",
    "        # print(f\"Inputs of length {sntc_len} -> {len(inputs)}\")\n",
    "        for i in range(0, len(inputs), batch_size):\n",
    "\n",
    "            batch_inputs = torch.stack(inputs[i:i + batch_size])\n",
    "            batch_labels = torch.stack(labels[i:i + batch_size])\n",
    "            batch_inputs.requires_grad_()\n",
    "            batch_labels.requires_grad_()\n",
    "\n",
    "            # print(f\"batch_inputs size {batch_inputs.size()}\")\n",
    "            # print(f\"batch_labels size {batch_labels.size()}\")\n",
    "            \n",
    "\n",
    "            optimizer.zero_grad()\n",
    "            output = model(batch_inputs)\n",
    "            # print(f\"output size {output.size()}\")\n",
    "\n",
    "            l = loss(output, batch_labels)\n",
    "            losses.append(l.item())\n",
    "            l.backward()\n",
    "            optimizer.step()\n",
    "    train_loss.append(np.mean(losses))\n",
    "    print(f\"Epoch {epoch + 1} | Loss {train_loss[-1]:.4f}\")"
   ]
  },
  {
   "cell_type": "code",
   "execution_count": 125,
   "metadata": {},
   "outputs": [
    {
     "data": {
      "image/png": "[encoded data removed]",
      "text/plain": [
       "<Figure size 640x480 with 1 Axes>"
      ]
     },
     "metadata": {},
     "output_type": "display_data"
    }
   ],
   "source": [
    "from matplotlib import pyplot as plt\n",
    "\n",
    "\n",
    "plt.plot(range(1, len(train_loss) + 1), train_loss)\n",
    "plt.grid(True)\n",
    "plt.show()"
   ]
  },
  {
   "cell_type": "code",
   "execution_count": 128,
   "metadata": {},
   "outputs": [
    {
     "name": "stdout",
     "output_type": "stream",
     "text": [
      "как бы ты не повлечий людей.\n",
      "что ж делать что это душа то что он демать.\n",
      "я не забудт с ней.\n"
     ]
    }
   ],
   "source": [
    "model.eval()\n",
    "\n",
    "def complete(prefix, max_length=100):\n",
    "    with torch.no_grad():\n",
    "        input_data = string_tensor(prefix).unsqueeze(0)\n",
    "        output_str = prefix\n",
    "\n",
    "        for _ in range(max_length):\n",
    "            output = model(input_data)\n",
    "            _, topi = output.topk(1)\n",
    "            predicted_char = int_to_char[topi.item()]\n",
    "            output_str += predicted_char\n",
    "            if predicted_char == '.': break\n",
    "            input_data = string_tensor(output_str[-max_sntc_l:]).unsqueeze(0)\n",
    "            \n",
    "        return output_str\n",
    "        \n",
    "\n",
    "print(complete(\"как\"))\n",
    "print(complete(\"чт\"))\n",
    "print(complete(\"я \"))"
   ]
  }
 ],
 "metadata": {
  "kernelspec": {
   "display_name": "metopt",
   "language": "python",
   "name": "python3"
  },
  "language_info": {
   "codemirror_mode": {
    "name": "ipython",
    "version": 3
   },
   "file_extension": ".py",
   "mimetype": "text/x-python",
   "name": "python",
   "nbconvert_exporter": "python",
   "pygments_lexer": "ipython3",
   "version": "3.10.8"
  },
  "orig_nbformat": 4
 },
 "nbformat": 4,
 "nbformat_minor": 2
}
